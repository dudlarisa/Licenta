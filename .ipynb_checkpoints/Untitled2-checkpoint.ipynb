{
 "cells": [
  {
   "cell_type": "code",
   "execution_count": 4,
   "id": "b7bf2a52",
   "metadata": {},
   "outputs": [
    {
     "ename": "SyntaxError",
     "evalue": "invalid syntax (1894248.py, line 1)",
     "output_type": "error",
     "traceback": [
      "\u001b[1;36m  Cell \u001b[1;32mIn[4], line 1\u001b[1;36m\u001b[0m\n\u001b[1;33m    from python-pptx import Presentation\u001b[0m\n\u001b[1;37m               ^\u001b[0m\n\u001b[1;31mSyntaxError\u001b[0m\u001b[1;31m:\u001b[0m invalid syntax\n"
     ]
    }
   ],
   "source": [
    "from pptx import Presentation\n",
    "\n",
    "# Creați o prezentare PowerPoint\n",
    "presentation = Presentation()\n",
    "\n",
    "# Slide 1 - Titlul proiectului\n",
    "slide1 = presentation.slides.add_slide(presentation.slide_layouts[0])\n",
    "title = slide1.shapes.title\n",
    "title.text = \"Titlul proiectului: Predictia preturilor din domeniul imobiliarelor si aplicatii\"\n",
    "\n",
    "# Slide 2 - Autor\n",
    "slide2 = presentation.slides.add_slide(presentation.slide_layouts[1])\n",
    "title = slide2.shapes.title\n",
    "subtitle = slide2.placeholders[1]\n",
    "title.text = \"Autor\"\n",
    "subtitle.text = \"Dud Larisa-Elena\"\n",
    "\n",
    "# Slide 3 - Conducator stiintific\n",
    "slide3 = presentation.slides.add_slide(presentation.slide_layouts[1])\n",
    "title = slide3.shapes.title\n",
    "subtitle = slide3.placeholders[1]\n",
    "title.text = \"Conducator stiintific\"\n",
    "subtitle.text = \"Prof.Dr.Ing. Gheorghe Sebestyen-Pal\"\n",
    "\n",
    "# ... continuați adăugând diapozitive și conținutul corespunzător\n",
    "\n",
    "# Salvați prezentarea PowerPoint într-un fișier\n",
    "presentation.save(\"prezentare.pptx\")\n"
   ]
  },
  {
   "cell_type": "code",
   "execution_count": null,
   "id": "d91664c0",
   "metadata": {},
   "outputs": [],
   "source": []
  }
 ],
 "metadata": {
  "kernelspec": {
   "display_name": "Python 3 (ipykernel)",
   "language": "python",
   "name": "python3"
  },
  "language_info": {
   "codemirror_mode": {
    "name": "ipython",
    "version": 3
   },
   "file_extension": ".py",
   "mimetype": "text/x-python",
   "name": "python",
   "nbconvert_exporter": "python",
   "pygments_lexer": "ipython3",
   "version": "3.9.13"
  }
 },
 "nbformat": 4,
 "nbformat_minor": 5
}
