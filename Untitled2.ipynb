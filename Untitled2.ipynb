{
 "cells": [
  {
   "cell_type": "code",
   "execution_count": 1,
   "id": "1adcf205",
   "metadata": {},
   "outputs": [
    {
     "ename": "ModuleNotFoundError",
     "evalue": "No module named 'pptx'",
     "output_type": "error",
     "traceback": [
      "\u001b[1;31m---------------------------------------------------------------------------\u001b[0m",
      "\u001b[1;31mModuleNotFoundError\u001b[0m                       Traceback (most recent call last)",
      "Cell \u001b[1;32mIn[1], line 1\u001b[0m\n\u001b[1;32m----> 1\u001b[0m \u001b[38;5;28;01mfrom\u001b[39;00m \u001b[38;5;21;01mpptx\u001b[39;00m \u001b[38;5;28;01mimport\u001b[39;00m Presentation\n\u001b[0;32m      3\u001b[0m \u001b[38;5;66;03m# Creați o prezentare PowerPoint\u001b[39;00m\n\u001b[0;32m      4\u001b[0m presentation \u001b[38;5;241m=\u001b[39m Presentation()\n",
      "\u001b[1;31mModuleNotFoundError\u001b[0m: No module named 'pptx'"
     ]
    }
   ],
   "source": [
    "from pptx import Presentation\n",
    "\n",
    "# Creați o prezentare PowerPoint\n",
    "presentation = Presentation()\n",
    "\n",
    "# Slide 1 - Titlul proiectului\n",
    "slide1 = presentation.slides.add_slide(presentation.slide_layouts[0])\n",
    "title = slide1.shapes.title\n",
    "title.text = \"Titlul proiectului: Predictia preturilor din domeniul imobiliarelor si aplicatii\"\n",
    "\n",
    "# Slide 2 - Autor\n",
    "slide2 = presentation.slides.add_slide(presentation.slide_layouts[1])\n",
    "title = slide2.shapes.title\n",
    "subtitle = slide2.placeholders[1]\n",
    "title.text = \"Autor\"\n",
    "subtitle.text = \"Dud Larisa-Elena\"\n",
    "\n",
    "# Slide 3 - Conducator stiintific\n",
    "slide3 = presentation.slides.add_slide(presentation.slide_layouts[1])\n",
    "title = slide3.shapes.title\n",
    "subtitle = slide3.placeholders[1]\n",
    "title.text = \"Conducator stiintific\"\n",
    "subtitle.text = \"Prof.Dr.Ing. Gheorghe Sebestyen-Pal\"\n",
    "\n",
    "# ... continuați adăugând diapozitive și conținutul corespunzător\n",
    "\n",
    "# Salvați prezentarea PowerPoint într-un fișier\n",
    "presentation.save(\"prezentare.pptx\")\n"
   ]
  },
  {
   "cell_type": "code",
   "execution_count": null,
   "id": "78395a6c",
   "metadata": {},
   "outputs": [],
   "source": []
  },
  {
   "cell_type": "code",
   "execution_count": null,
   "id": "31b039a0",
   "metadata": {},
   "outputs": [],
   "source": []
  },
  {
   "cell_type": "code",
   "execution_count": null,
   "id": "f0a37f65",
   "metadata": {},
   "outputs": [],
   "source": []
  },
  {
   "cell_type": "code",
   "execution_count": null,
   "id": "e5107c6d",
   "metadata": {},
   "outputs": [],
   "source": []
  },
  {
   "cell_type": "code",
   "execution_count": null,
   "id": "d6bc3c7f",
   "metadata": {},
   "outputs": [],
   "source": []
  },
  {
   "cell_type": "code",
   "execution_count": null,
   "id": "18a51a66",
   "metadata": {},
   "outputs": [],
   "source": []
  }
 ],
 "metadata": {
  "kernelspec": {
   "display_name": "Python 3 (ipykernel)",
   "language": "python",
   "name": "python3"
  },
  "language_info": {
   "codemirror_mode": {
    "name": "ipython",
    "version": 3
   },
   "file_extension": ".py",
   "mimetype": "text/x-python",
   "name": "python",
   "nbconvert_exporter": "python",
   "pygments_lexer": "ipython3",
   "version": "3.9.13"
  }
 },
 "nbformat": 4,
 "nbformat_minor": 5
}
